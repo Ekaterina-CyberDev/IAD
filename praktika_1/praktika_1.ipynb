{
 "cells": [
  {
   "cell_type": "markdown",
   "id": "168319f7",
   "metadata": {},
   "source": [
    "1.2.1\n",
    "Находит НОД числа 8 и заданного числа, используя двоичное представление.\n",
    "Важно: НОД с числом 8 зависит от последних битов числа (делимости на 2, 4, 8)"
   ]
  },
  {
   "cell_type": "code",
   "execution_count": null,
   "id": "dc8859b0",
   "metadata": {},
   "outputs": [],
   "source": [
    "def find_gcd_with_8(number):\n",
    "    \n",
    "    # Преобразуем число 8 в двоичный вид и убираем префикс '0b'\n",
    "    bin_8 = bin(8)[2:]\n",
    "    \n",
    "    # Преобразуем входное число в двоичный вид(строка)\n",
    "    bin_num = bin(number)[2:]\n",
    "    \n",
    "    last_bits = bin_num[-3:]  # последние 3 бита (для проверки делимости на 8)\n",
    "    \n",
    "    # проверка делимости на степени двойки \n",
    "    if bin_num[-1] == '0':  # если последний бит 0 - делится на 2\n",
    "        \n",
    "        # Проверяем делимость на 4 (последние 2 бита = 00)\n",
    "        if len(bin_num) >= 2 and bin_num[-2] == '0':  # предпоследний бит 0 - делится на 4\n",
    "            \n",
    "            # Проверяем делимость на 8 (последние 3 бита = 000)\n",
    "            if len(bin_num) >= 3 and bin_num[-3] == '0':\n",
    "                return 8  # НОД = 8\n",
    "            else:\n",
    "                return 4  # НОД = 4 (делится на 4, но не на 8)\n",
    "        else:\n",
    "            return 2  # НОД = 2 (делится на 2, но не на 4)\n",
    "    else:\n",
    "        return 1  # если не делится на 2, то НОД = 1\n",
    "\n",
    "ten_digit_number = 1112343566  # задаем 10-значное число\n",
    "\n",
    "result = find_gcd_with_8(ten_digit_number)\n",
    "print(f\"НОД числа 8 и {ten_digit_number} равен {result}\")"
   ]
  },
  {
   "cell_type": "markdown",
   "id": "9d4a7913",
   "metadata": {},
   "source": []
  }
 ],
 "metadata": {
  "kernelspec": {
   "display_name": "Python 3",
   "language": "python",
   "name": "python3"
  },
  "language_info": {
   "codemirror_mode": {
    "name": "ipython",
    "version": 3
   },
   "file_extension": ".py",
   "mimetype": "text/x-python",
   "name": "python",
   "nbconvert_exporter": "python",
   "pygments_lexer": "ipython3",
   "version": "3.12.1"
  }
 },
 "nbformat": 4,
 "nbformat_minor": 5
}
